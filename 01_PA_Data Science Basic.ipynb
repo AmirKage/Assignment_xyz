{
  "cells": [
    {
      "cell_type": "markdown",
      "metadata": {
        "id": "view-in-github",
        "colab_type": "text"
      },
      "source": [
        "<a href=\"https://colab.research.google.com/github/AmirKage/Assignment_xyz/blob/main/01_PA_Data%20Science%20Basic.ipynb\" target=\"_parent\"><img src=\"https://colab.research.google.com/assets/colab-badge.svg\" alt=\"Open In Colab\"/></a>"
      ]
    },
    {
      "cell_type": "markdown",
      "metadata": {
        "id": "Rcl_zgudJAwP"
      },
      "source": [
        "# Programming Assignment: Data Science Basics"
      ]
    },
    {
      "cell_type": "markdown",
      "metadata": {
        "id": "HXXMF9o0JAwQ"
      },
      "source": [
        "In this programming assignment you need to apply your new `numpy`, `pandas` and `matplotlib` knowledge. You will need to do several [`groupby`](https://pandas.pydata.org/pandas-docs/stable/generated/pandas.DataFrame.groupby.html)s and [`join`](https://pandas.pydata.org/pandas-docs/stable/generated/pandas.DataFrame.join.html)`s to solve the task."
      ]
    },
    {
      "cell_type": "code",
      "execution_count": 1,
      "metadata": {
        "id": "x32T7CJIJAwR"
      },
      "outputs": [],
      "source": [
        "# Import Packages\n",
        "import pandas as pd\n",
        "import numpy as np\n",
        "import os\n",
        "import matplotlib.pyplot as plt\n",
        "%matplotlib inline"
      ]
    },
    {
      "cell_type": "markdown",
      "metadata": {
        "id": "-nz-U17fJAwS"
      },
      "source": [
        "Pandas allows you to load the required data sets directly from github:"
      ]
    },
    {
      "cell_type": "code",
      "execution_count": 2,
      "metadata": {
        "id": "_nVfwszsJAwS"
      },
      "outputs": [],
      "source": [
        "# Load Data\n",
        "transactions    = pd.read_csv('https://github.com/NikoStein/pds_data/raw/main/data/sales_train.csv.gz')\n",
        "items           = pd.read_csv('https://github.com/NikoStein/pds_data/raw/main/data/items.csv')\n",
        "item_categories = pd.read_csv('https://github.com/NikoStein/pds_data/raw/main/data/item_categories.csv')"
      ]
    },
    {
      "cell_type": "markdown",
      "metadata": {
        "id": "s7Np_MSgJAwT"
      },
      "source": [
        "## Get to know the data\n",
        "Print the **shape** of the loaded dataframes and use [`df.head`](https://pandas.pydata.org/pandas-docs/stable/generated/pandas.DataFrame.head.html) function to print several rows. Examine the features you are given."
      ]
    },
    {
      "cell_type": "code",
      "execution_count": 7,
      "metadata": {
        "colab": {
          "base_uri": "https://localhost:8080/"
        },
        "id": "Bn9e922WJAwT",
        "outputId": "1eb97f6d-1418-4db9-949e-d381aee40863"
      },
      "outputs": [
        {
          "output_type": "stream",
          "name": "stdout",
          "text": [
            "Transactions shape: (2935849, 6)\n",
            "Items shape: (22170, 3)\n",
            "Item Categories shape: (84, 2)\n",
            "         date  date_block_num  shop_id  item_id  item_price  item_cnt_day\n",
            "0  02.01.2013               0       59    22154      999.00           1.0\n",
            "1  03.01.2013               0       25     2552      899.00           1.0\n",
            "2  05.01.2013               0       25     2552      899.00          -1.0\n",
            "3  06.01.2013               0       25     2554     1709.05           1.0\n",
            "4  15.01.2013               0       25     2555     1099.00           1.0\n",
            "                                           item_name  item_id  \\\n",
            "0          ! ВО ВЛАСТИ НАВАЖДЕНИЯ (ПЛАСТ.)         D        0   \n",
            "1  !ABBYY FineReader 12 Professional Edition Full...        1   \n",
            "2      ***В ЛУЧАХ СЛАВЫ   (UNV)                    D        2   \n",
            "3    ***ГОЛУБАЯ ВОЛНА  (Univ)                      D        3   \n",
            "4        ***КОРОБКА (СТЕКЛО)                       D        4   \n",
            "\n",
            "   item_category_id  \n",
            "0                40  \n",
            "1                76  \n",
            "2                40  \n",
            "3                40  \n",
            "4                40  \n",
            "        item_category_name  item_category_id\n",
            "0  PC - Гарнитуры/Наушники                 0\n",
            "1         Аксессуары - PS2                 1\n",
            "2         Аксессуары - PS3                 2\n",
            "3         Аксессуары - PS4                 3\n",
            "4         Аксессуары - PSP                 4\n"
          ]
        }
      ],
      "source": [
        "print(\"Transactions shape:\", transactions.shape)\n",
        "print(\"Items shape:\", items.shape)\n",
        "print(\"Item Categories shape:\", item_categories.shape)\n",
        "\n",
        "print(transactions.head())\n",
        "print(items.head())\n",
        "print(item_categories.head())"
      ]
    },
    {
      "cell_type": "markdown",
      "metadata": {
        "id": "NwuLombtJAwT"
      },
      "source": [
        "## Maximum total revenue among all the shops\n",
        "\n",
        "Now use your `pandas` skills to get answers for the following questions.\n",
        "The first question is:\n",
        "\n",
        "What was the maximum total revenue among all the shops in July, 2013?\n",
        "\n",
        "* Hereinafter *revenue* refers to total sales minus value of goods returned.\n",
        "\n",
        "*Hints:*\n",
        "\n",
        "* Sometimes items are returned, find such examples in the dataset.\n",
        "* It is handy to split `date` field into [`day`, `month`, `year`] components and use `df.year == 13` and `df.month == 6` in order to select target subset of dates.\n",
        "* You may work with `date` feature as with strings, or you may first convert it to `pd.datetime` type with `pd.to_datetime` function, but do not forget to set correct `format` argument."
      ]
    },
    {
      "cell_type": "code",
      "execution_count": 10,
      "metadata": {
        "colab": {
          "base_uri": "https://localhost:8080/"
        },
        "id": "wYBtT8CcJAwU",
        "outputId": "37474fe8-0cd7-4ea3-a870-93dc978bd6e8"
      },
      "outputs": [
        {
          "output_type": "stream",
          "name": "stdout",
          "text": [
            "The maximum total revenue among all shops in July 2013 is: 4886087.749999942\n"
          ]
        }
      ],
      "source": [
        "# Convert the date column to datetime format\n",
        "transactions['date'] = pd.to_datetime(transactions['date'], format='%d.%m.%Y')\n",
        "\n",
        "# Extract year and month from the date\n",
        "transactions['year'] = transactions['date'].dt.year\n",
        "transactions['month'] = transactions['date'].dt.month\n",
        "\n",
        "# Calculate revenue\n",
        "transactions['revenue'] = transactions['item_price'] * transactions['item_cnt_day']\n",
        "\n",
        "# Filter for July 2013 data\n",
        "july_2013_data = transactions[(transactions['year'] == 2013) & (transactions['month'] == 7)]\n",
        "\n",
        "# Group by shop and find the maximum revenue\n",
        "shop_revenue = july_2013_data.groupby('shop_id')['revenue'].sum()\n",
        "max_revenue = shop_revenue.max()\n",
        "\n",
        "print(\"The maximum total revenue among all shops in July 2013 is:\", max_revenue)\n"
      ]
    },
    {
      "cell_type": "code",
      "execution_count": 9,
      "metadata": {
        "id": "CnfQZaBGJAwU"
      },
      "outputs": [],
      "source": [
        "# Save the final value in this variable\n",
        "max_revenue = 4886087.749999942"
      ]
    },
    {
      "cell_type": "markdown",
      "metadata": {
        "id": "XFIPR6p0JAwU"
      },
      "source": [
        "In addition we can find the index (shop id) of the row with the max value in the column using ```idxmax()```"
      ]
    },
    {
      "cell_type": "code",
      "execution_count": 11,
      "metadata": {
        "colab": {
          "base_uri": "https://localhost:8080/"
        },
        "id": "p-AHjjFwJAwV",
        "outputId": "3d0f3e98-221c-459f-aaaf-cc6b6843237c"
      },
      "outputs": [
        {
          "output_type": "stream",
          "name": "stdout",
          "text": [
            "The shop ID with the maximum revenue in July 2013 is: 31\n",
            "The maximum revenue for this shop is: 4886087.749999942\n"
          ]
        }
      ],
      "source": [
        "max_revenue_shop_id = shop_revenue.idxmax()\n",
        "max_revenue = shop_revenue.max()\n",
        "\n",
        "print(\"The shop ID with the maximum revenue in July 2013 is:\", max_revenue_shop_id)\n",
        "print(\"The maximum revenue for this shop is:\", max_revenue)"
      ]
    },
    {
      "cell_type": "markdown",
      "metadata": {
        "id": "EGApWHF_JAwV"
      },
      "source": [
        "## Constant price\n",
        "\n",
        "How many items are there, such that their price stays constant (to the best of our knowledge) during the whole period of time?\n",
        "\n",
        "* Let's assume, that the items are returned for the same price as they had been sold."
      ]
    },
    {
      "cell_type": "code",
      "execution_count": 12,
      "metadata": {
        "colab": {
          "base_uri": "https://localhost:8080/"
        },
        "id": "Lf624L38JAwV",
        "outputId": "c0f1d09c-a319-4c82-b7e1-fe9c63efa058"
      },
      "outputs": [
        {
          "output_type": "stream",
          "name": "stdout",
          "text": [
            "Number of items with constant price: 5926\n"
          ]
        }
      ],
      "source": [
        "# Grouping each item to check price variations\n",
        "price_variation = transactions.groupby('item_id')['item_price'].nunique()\n",
        "\n",
        "# Counting items with only one unique price\n",
        "constant_price_items = price_variation[price_variation == 1].count()\n",
        "\n",
        "print(\"Number of items with constant price:\", constant_price_items)"
      ]
    },
    {
      "cell_type": "code",
      "execution_count": 13,
      "metadata": {
        "id": "zAH2Gcq4JAwV"
      },
      "outputs": [],
      "source": [
        "# Save the final value in this variable\n",
        "num_items_constant_price = 5926"
      ]
    },
    {
      "cell_type": "markdown",
      "metadata": {
        "id": "CbSh4Hd4JAwV"
      },
      "source": [
        "## Variance of sold items per day\n",
        "\n",
        "What was the variance of the number of sold items per day sequence for the shop with `shop_id = 25` in December, 2014?\n",
        "\n",
        "* Do not count the items that were sold but returned back later.\n",
        "* Fill `total_num_items_sold`: An (ordered) array that contains the total number of items sold on each day\n",
        "* Then compute variance of the of `total_num_items_sold`\n",
        "* If there were no sales at a given day, ***do not*** impute missing value with zero, just ignore that day"
      ]
    },
    {
      "cell_type": "code",
      "execution_count": 32,
      "metadata": {
        "colab": {
          "base_uri": "https://localhost:8080/"
        },
        "id": "XoDJfgwDJAwV",
        "outputId": "2a04ab3b-5677-4966-e3df-331cf4f505c6"
      },
      "outputs": [
        {
          "output_type": "stream",
          "name": "stdout",
          "text": [
            "Total number of items sold each day: [ 153.  169.  195.  164.  300.  353.  326.  209.  204.  143.  214.  297.\n",
            "  432.  306.  225.  192.  285.  326.  418.  579.  381.  318.  371.  434.\n",
            "  506.  620.  746.  662. 1966.  776.]\n",
            "Variance of the number of sold items per day for shop ID 25 in December 2014 is: 117211.10344827586\n"
          ]
        }
      ],
      "source": [
        "transactions['date'] = pd.to_datetime(transactions['date'], format='%d.%m.%Y')\n",
        "\n",
        "# Filter and creating dataframe for shop ID 25 and December 2014\n",
        "shop_25_dec_2014 = transactions[(transactions['shop_id'] == 25) &\n",
        "                                 (transactions['year'] == 2014) &\n",
        "                                 (transactions['month'] == 12)]\n",
        "\n",
        "# Filtering out returns (only keeping sold items)\n",
        "shop_25_dec_2014 = shop_25_dec_2014[shop_25_dec_2014['item_cnt_day'] > 0]\n",
        "\n",
        "# Grouping by date and calculating total items sold each day\n",
        "daily_sales = shop_25_dec_2014.groupby('date')['item_cnt_day'].sum()\n",
        "\n",
        "total_num_items_sold = daily_sales.values\n",
        "print(\"Total number of items sold each day:\", total_num_items_sold)\n",
        "\n",
        "# Calculating the variance of the total number of sold items per day\n",
        "variance_sold_items = daily_sales.var()\n",
        "\n",
        "print(\"Variance of the number of sold items per day for shop ID 25 in December 2014 is:\", variance_sold_items)\n"
      ]
    },
    {
      "cell_type": "code",
      "execution_count": 34,
      "metadata": {
        "id": "plt8SP4PJAwW"
      },
      "outputs": [],
      "source": [
        "# Save the final value in this variable\n",
        "total_num_items_sold = [153., 169., 195., 164., 300., 353., 326., 209., 204., 143.,\n",
        "                        214., 297., 432., 306., 225., 192., 285., 326.,\n",
        "                        418., 579., 381., 318., 371., 434., 506., 620.,\n",
        "                        746., 662., 1966., 776.]"
      ]
    },
    {
      "cell_type": "code",
      "execution_count": 19,
      "metadata": {
        "id": "XLezuolSJAwW"
      },
      "outputs": [],
      "source": [
        "# Save the final value in this variable\n",
        "total_num_items_sold_var = 117211.10344827586"
      ]
    },
    {
      "cell_type": "markdown",
      "metadata": {
        "id": "XCXqLyWdJAwW"
      },
      "source": [
        "## Visualization of the daily revenue\n",
        "\n",
        "Use `total_num_items_sold` to plot the daily revenue of `shop_id = 25` in December, 2014.\n",
        "\n",
        "* y-label: 'Num items'\n",
        "* x-label: 'Day'\n",
        "* plot-title: 'Daily revenue for shop_id = 25'\n",
        "* use plt.show() to display the plot in the end"
      ]
    },
    {
      "cell_type": "code",
      "execution_count": 35,
      "metadata": {
        "colab": {
          "base_uri": "https://localhost:8080/",
          "height": 617
        },
        "id": "ITDEfPn5JAwW",
        "outputId": "91b7375b-f98a-441d-fe0b-50404a647c6e"
      },
      "outputs": [
        {
          "output_type": "display_data",
          "data": {
            "text/plain": [
              "<Figure size 1200x600 with 1 Axes>"
            ],
            "image/png": "[encoded data removed]"
          },
          "metadata": {}
        }
      ],
      "source": [
        "daily_prices = shop_25_dec_2014.groupby('date')['item_price'].mean()\n",
        "daily_revenue = daily_sales * daily_prices\n",
        "\n",
        "plt.figure(figsize=(12, 6))\n",
        "plt.plot(daily_revenue.index, daily_revenue, marker='o', linestyle='-', color='b')\n",
        "plt.xlabel('Day')\n",
        "plt.ylabel('Num items')\n",
        "plt.title('Daily revenue for shop_id = 25')\n",
        "# Rotateing x labels for better visibility\n",
        "plt.xticks(rotation=45)\n",
        "plt.grid()\n",
        "\n",
        "plt.show()"
      ]
    },
    {
      "cell_type": "markdown",
      "metadata": {
        "id": "topOulu2JAwW"
      },
      "source": [
        "## Final submission\n",
        "Only for the submission (do not change the code)."
      ]
    },
    {
      "cell_type": "code",
      "execution_count": 36,
      "metadata": {
        "colab": {
          "base_uri": "https://localhost:8080/"
        },
        "id": "0vU03GFoJAwW",
        "outputId": "19202f56-a3a6-4335-ef1a-47f59898f88d"
      },
      "outputs": [
        {
          "output_type": "stream",
          "name": "stdout",
          "text": [
            "4886087.749999942\n",
            "5926\n",
            "[153.0, 169.0, 195.0, 164.0, 300.0, 353.0, 326.0, 209.0, 204.0, 143.0, 214.0, 297.0, 432.0, 306.0, 225.0, 192.0, 285.0, 326.0, 418.0, 579.0, 381.0, 318.0, 371.0, 434.0, 506.0, 620.0, 746.0, 662.0, 1966.0, 776.0]\n",
            "117211.10344827586\n"
          ]
        }
      ],
      "source": [
        "print(max_revenue)\n",
        "print(num_items_constant_price)\n",
        "print(total_num_items_sold)\n",
        "print(total_num_items_sold_var)"
      ]
    },
    {
      "cell_type": "markdown",
      "metadata": {
        "id": "AzC46tNGJAwW"
      },
      "source": [
        "## Bonus\n",
        "\n",
        "What item category that generated the highest revenue in spring 2014?</b></li>\n",
        "\n",
        "* Submit the `id` of the category found.\n",
        "    \n",
        "* Here, spring is the period from March to May."
      ]
    },
    {
      "cell_type": "code",
      "execution_count": 38,
      "metadata": {
        "colab": {
          "base_uri": "https://localhost:8080/"
        },
        "id": "QBe18UU-JAwW",
        "outputId": "9a50a8a6-ca26-4ec5-bc76-65cc27a319ff"
      },
      "outputs": [
        {
          "output_type": "stream",
          "name": "stdout",
          "text": [
            "Item category that generated the highest revenue in spring 2014 is: 20\n",
            "Total revenue for this category is: 33755407.40999937\n"
          ]
        }
      ],
      "source": [
        "# Filtering transactions for spring 2014 (March to May)\n",
        "spring_2014 = transactions[(transactions['date'].dt.year == 2014) &\n",
        "                           (transactions['date'].dt.month.isin([3, 4, 5]))].copy()\n",
        "\n",
        "#Calculating revenue\n",
        "spring_2014['revenue'] = spring_2014['item_price'] * spring_2014['item_cnt_day']\n",
        "\n",
        "# Merging transactions with items and item categories\n",
        "merged_data = spring_2014.merge(items, on='item_id').merge(item_categories, on='item_category_id')\n",
        "\n",
        "# Grouping by item category and sum the revenue\n",
        "category_revenue = merged_data.groupby('item_category_id')['revenue'].sum()\n",
        "\n",
        "#Finding the category with the highest revenue\n",
        "max_revenue_category_id = category_revenue.idxmax()\n",
        "max_revenue_value = category_revenue.max()\n",
        "\n",
        "print(\"Item category that generated the highest revenue in spring 2014 is:\", max_revenue_category_id)\n",
        "print(\"Total revenue for this category is:\", max_revenue_value)"
      ]
    },
    {
      "cell_type": "code",
      "execution_count": 39,
      "metadata": {
        "id": "678CGcE-JAwX"
      },
      "outputs": [],
      "source": [
        "# Save the final value in this variable\n",
        "category_id_with_max_revenue = 20"
      ]
    },
    {
      "cell_type": "code",
      "execution_count": 40,
      "metadata": {
        "colab": {
          "base_uri": "https://localhost:8080/"
        },
        "id": "F7XTJpJzJAwX",
        "outputId": "fc1adcb8-be34-4c00-ab6b-ef6cceb3eedb"
      },
      "outputs": [
        {
          "output_type": "stream",
          "name": "stdout",
          "text": [
            "20\n"
          ]
        }
      ],
      "source": [
        "print(category_id_with_max_revenue)"
      ]
    }
  ],
  "metadata": {
    "kernelspec": {
      "display_name": "Python 3",
      "language": "python",
      "name": "python3"
    },
    "language_info": {
      "codemirror_mode": {
        "name": "ipython",
        "version": 3
      },
      "file_extension": ".py",
      "mimetype": "text/x-python",
      "name": "python",
      "nbconvert_exporter": "python",
      "pygments_lexer": "ipython3",
      "version": "3.7.9"
    },
    "toc": {
      "base_numbering": "1",
      "nav_menu": {},
      "number_sections": true,
      "sideBar": true,
      "skip_h1_title": false,
      "title_cell": "Table of Contents",
      "title_sidebar": "Contents",
      "toc_cell": false,
      "toc_position": {
        "height": "calc(100% - 180px)",
        "left": "10px",
        "top": "150px",
        "width": "261.0714416503906px"
      },
      "toc_section_display": true,
      "toc_window_display": true
    },
    "colab": {
      "provenance": [],
      "include_colab_link": true
    }
  },
  "nbformat": 4,
  "nbformat_minor": 0
}